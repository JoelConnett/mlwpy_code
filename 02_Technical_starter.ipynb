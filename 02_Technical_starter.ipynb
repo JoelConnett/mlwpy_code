{
 "cells": [
  {
   "cell_type": "code",
   "execution_count": 1,
   "metadata": {},
   "outputs": [],
   "source": [
    "from mlwpy import *\n",
    "%matplotlib inline"
   ]
  },
  {
   "cell_type": "code",
   "execution_count": 2,
   "metadata": {
    "collapsed": false,
    "jupyter": {
     "outputs_hidden": false
    },
    "pycharm": {
     "name": "#%%\n"
    }
   },
   "outputs": [
    {
     "data": {
      "text/plain": [
       "4"
      ]
     },
     "execution_count": 2,
     "metadata": {},
     "output_type": "execute_result"
    }
   ],
   "source": [
    "np.random.randint(1,7)"
   ]
  },
  {
   "cell_type": "code",
   "execution_count": 3,
   "metadata": {
    "collapsed": false,
    "jupyter": {
     "outputs_hidden": false
    },
    "pycharm": {
     "name": "#%%\n"
    }
   },
   "outputs": [],
   "source": [
    "few_rolls = np.random.randint(1, 7, size=10)\n",
    "many_rolls = np.random.randint(1, 7, size=1000)"
   ]
  },
  {
   "cell_type": "code",
   "execution_count": 4,
   "metadata": {
    "collapsed": false,
    "jupyter": {
     "outputs_hidden": false
    },
    "pycharm": {
     "name": "#%%\n"
    }
   },
   "outputs": [
    {
     "name": "stdout",
     "output_type": "stream",
     "text": [
      "[5 3 5 5 2 3 3 3 5 4]\n",
      "[0.5 1.5 2.5 3.5 4.5 5.5 6.5]\n",
      "[0 1 4 1 4 0]\n",
      "man_rolls [3 6 5 2 4 6 6 2 4 5 1 4 2 6 5 4 1 1 3 3 2 4 4 6 6 6 3 4 4 1 3 5 3 5 1 2 4\n",
      " 1 4 6 2 2 1 2 5 2 4 4 4 4 5 3 6 1 4 2 4 2 6 6 6 2 4 6 5 2 2 4 2 2 6 4 6 6\n",
      " 4 1 6 5 5 2 5 2 1 4 4 4 5 1 5 5 1 1 1 1 4 3 3 1 3 3 1 3 5 2 2 1 4 1 4 2 1\n",
      " 6 5 3 4 6 3 3 1 3 5 6 3 1 5 2 6 3 1 2 2 4 5 3 1 4 5 4 6 5 5 3 5 4 5 3 3 6\n",
      " 4 2 2 5 6 1 5 6 4 4 4 4 4 6 6 3 2 4 1 6 1 1 1 3 6 1 4 5 1 3 6 3 1 6 5 1 3\n",
      " 2 4 3 6 1 4 1 6 1 2 4 4 6 2 3 1 5 1 1 3 1 2 2 4 6 5 1 1 3 6 2 5 4 2 6 4 3\n",
      " 3 1 6 5 4 2 6 6 3 1 1 4 3 6 5 3 4 4 3 4 3 2 3 3 4 4 1 1 2 1 3 4 1 1 2 6 2\n",
      " 3 4 2 1 4 4 1 2 1 6 4 5 5 3 1 1 3 3 3 4 6 1 4 3 1 4 6 4 6 3 6 1 3 1 5 2 6\n",
      " 2 2 6 3 5 1 4 1 4 1 6 5 4 3 1 1 4 3 3 6 6 6 6 6 6 5 3 6 3 3 2 5 6 1 4 1 5\n",
      " 4 5 3 4 3 1 1 4 4 6 5 6 5 6 3 4 1 5 5 1 6 5 3 4 1 4 5 5 1 3 2 1 2 6 2 3 6\n",
      " 2 6 2 3 2 2 2 1 1 1 3 6 5 2 2 3 2 1 5 4 2 1 4 5 4 1 6 6 4 3 4 2 2 6 3 1 2\n",
      " 6 5 6 2 2 6 1 4 2 6 6 3 4 5 1 5 4 4 4 5 4 6 5 4 6 3 4 5 2 4 2 6 3 1 3 4 2\n",
      " 2 5 2 5 6 1 4 5 1 2 2 1 2 6 6 1 5 5 1 5 5 6 5 3 4 2 3 5 6 1 5 6 4 5 1 6 6\n",
      " 6 4 5 4 2 2 5 4 1 6 6 5 2 2 6 5 4 2 4 2 2 3 2 1 5 5 4 2 1 4 3 4 4 2 3 4 1\n",
      " 1 5 3 3 5 4 3 1 1 2 3 4 5 5 4 6 2 5 3 2 3 1 2 5 2 2 2 6 2 3 1 4 2 5 2 5 3\n",
      " 5 4 1 5 5 1 4 2 5 1 3 1 3 4 2 1 6 5 4 1 5 1 3 1 6 1 1 6 4 1 6 5 3 3 1 4 4\n",
      " 5 1 3 4 1 4 6 4 3 2 5 5 3 4 1 4 3 5 4 5 1 5 5 2 2 6 2 5 3 5 3 3 2 4 1 2 2\n",
      " 4 1 5 6 6 5 2 1 2 3 2 2 5 5 5 6 3 5 1 6 4 1 1 5 4 4 6 4 3 5 4 6 3 2 2 3 6\n",
      " 3 5 5 2 4 6 2 4 4 5 1 1 3 5 4 6 1 4 1 1 1 6 5 6 2 4 5 5 5 5 6 5 3 4 5 4 3\n",
      " 3 4 1 2 1 1 6 1 5 6 6 3 1 3 4 2 6 4 4 5 2 4 4 2 2 4 2 4 4 5 1 4 3 6 1 1 1\n",
      " 5 4 5 4 5 5 6 3 5 6 2 3 5 1 2 2 6 2 3 5 5 1 6 1 2 1 3 5 2 1 6 3 3 1 5 1 2\n",
      " 1 3 1 5 6 4 1 5 5 6 3 5 5 5 5 2 2 3 1 5 6 1 6 1 3 5 5 4 6 1 1 2 4 2 2 2 6\n",
      " 6 3 3 2 4 1 6 4 5 6 6 3 1 1 5 5 6 2 3 3 6 4 2 6 2 2 2 6 3 3 2 4 1 6 1 4 6\n",
      " 2 3 1 5 5 4 2 1 2 1 4 4 5 2 6 5 2 5 6 3 3 3 3 1 3 6 4 4 1 3 3 3 5 2 5 2 3\n",
      " 3 5 5 2 4 2 5 6 5 6 1 5 1 4 2 6 2 1 6 2 5 3 1 2 1 1 6 6 3 5 1 2 4 1 1 3 5\n",
      " 4 6 6 2 4 6 2 5 2 6 3 3 3 6 3 4 5 2 2 6 3 3 1 5 4 2 1 1 6 2 6 4 1 1 5 4 1\n",
      " 4 2 3 1 5 2 4 6 2 1 4 3 2 1 5 6 4 2 2 3 3 5 6 5 1 1 5 6 5 6 6 4 6 3 6 6 6\n",
      " 1]\n"
     ]
    },
    {
     "data": {
      "image/png": "[encoded data removed]",
      "text/plain": [
       "<Figure size 576x216 with 2 Axes>"
      ]
     },
     "metadata": {
      "needs_background": "dark"
     },
     "output_type": "display_data"
    }
   ],
   "source": [
    "few_counts  = np.histogram(few_rolls,  bins=np.arange(.5, 7.5))[0]\n",
    "print(few_rolls)\n",
    "print(np.arange(.5, 7.5))\n",
    "print(few_counts)\n",
    "many_counts = np.histogram(many_rolls, bins=np.arange(.5, 7.5))[0]\n",
    "print(\"man_rolls\", many_rolls)\n",
    "fig, (ax1, ax2) = plt.subplots(1, 2, figsize=(8, 3))\n",
    "ax1.bar(np.arange(1, 7), few_counts)\n",
    "ax2.bar(np.arange(1, 7), many_counts);"
   ]
  },
  {
   "cell_type": "markdown",
   "metadata": {
    "pycharm": {
     "name": "#%% md\n"
    }
   },
   "source": [
    "### Definitions\n",
    "\n",
    "#### Binomial Distribution\n",
    "The number of successes in a sequence of <b>n</b>  independent experiments each asking a yes-no question, and each with its\n",
    "own Boolean-valued outcome: success (with probability <b>p</b>)\n",
    "\n",
    "#### Probability Mass Function\n",
    "Gives the probability that a discrete random variable is exactly\n",
    " equal to some value. Also known as discrete density function. - Wikipedia.\n",
    "\n",
    "#### Normal Distribution\n",
    "\n",
    "In probability theory, a normal (or Gaussian or Gauss or Laplace–Gauss) distribution is a type of continuous probability distribution for a real-valued random variable. The general form of its probability density function is\n",
    "\n",
    "$${\\displaystyle f(x)={\\frac {1}{\\sigma {\\sqrt {2\\pi }}}}e^{-{\\frac {1}{2}}\\left({\\frac {x-\\mu }{\\sigma }}\\right)^{2}}}$$\n",
    "\n",
    "The parameter $$\\mu$$ (mu) is the mean or expectation of the distribution (and also its median and mode), while the\n",
    "parameter $$\\sigma$$ (sigma) is its standard deviation. The variance of the distribution is $$\\sigma ^{2}$$. A random\n",
    "variable with a Gaussian distribution is said to be normally distributed, and is called a normal deviate.\n",
    "\n",
    "#### Probability Density function\n",
    "Too long to copy https://en.wikipedia.org/wiki/Probability_density_function"
   ]
  },
  {
   "cell_type": "markdown",
   "metadata": {},
   "source": []
  },
  {
   "cell_type": "code",
   "execution_count": 5,
   "metadata": {
    "collapsed": false,
    "jupyter": {
     "outputs_hidden": false
    },
    "pycharm": {
     "name": "#%%\n"
    }
   },
   "outputs": [
    {
     "name": "stdout",
     "output_type": "stream",
     "text": [
      "Successes: [0 1 2 3 4]\n",
      "PMF: [0.0312 0.1562 0.3125 0.3125 0.1562]\n",
      "Successes: [0 1 2 3 4 5 6 7 8 9]\n",
      "PMF: [0.001  0.0098 0.0439 0.1172 0.2051 0.2461 0.2051 0.1172 0.0439 0.0098]\n",
      "Successes: [ 0  1  2  3  4  5  6  7  8  9 10 11 12 13 14 15 16 17 18 19]\n",
      "PMF: [0.     0.     0.0002 0.0011 0.0046 0.0148 0.037  0.0739 0.1201 0.1602\n",
      " 0.1762 0.1602 0.1201 0.0739 0.037  0.0148 0.0046 0.0011 0.0002 0.    ]\n",
      "Successes: [ 0  1  2  3  4  5  6  7  8  9 10 11 12 13 14 15 16 17 18 19 20 21 22 23\n",
      " 24 25 26 27 28 29 30 31 32 33 34 35 36 37 38 39]\n",
      "PMF: [0.     0.     0.     0.     0.     0.     0.     0.     0.0001 0.0002\n",
      " 0.0008 0.0021 0.0051 0.0109 0.0211 0.0366 0.0572 0.0807 0.1031 0.1194\n",
      " 0.1254 0.1194 0.1031 0.0807 0.0572 0.0366 0.0211 0.0109 0.0051 0.0021\n",
      " 0.0008 0.0002 0.0001 0.     0.     0.     0.     0.     0.     0.    ]\n",
      "Successes: [ 0  1  2  3  4  5  6  7  8  9 10 11 12 13 14 15 16 17 18 19 20 21 22 23\n",
      " 24 25 26 27 28 29 30 31 32 33 34 35 36 37 38 39 40 41 42 43 44 45 46 47\n",
      " 48 49 50 51 52 53 54 55 56 57 58 59 60 61 62 63 64 65 66 67 68 69 70 71\n",
      " 72 73 74 75 76 77 78 79]\n",
      "PMF: [0.     0.     0.     0.     0.     0.     0.     0.     0.     0.\n",
      " 0.     0.     0.     0.     0.     0.     0.     0.     0.     0.\n",
      " 0.     0.     0.     0.0001 0.0001 0.0003 0.0006 0.0013 0.0024 0.0043\n",
      " 0.0073 0.0118 0.0181 0.0264 0.0364 0.0479 0.0599 0.0712 0.0806 0.0868\n",
      " 0.0889 0.0868 0.0806 0.0712 0.0599 0.0479 0.0364 0.0264 0.0181 0.0118\n",
      " 0.0073 0.0043 0.0024 0.0013 0.0006 0.0003 0.0001 0.0001 0.     0.\n",
      " 0.     0.     0.     0.     0.     0.     0.     0.     0.     0.\n",
      " 0.     0.     0.     0.     0.     0.     0.     0.     0.     0.    ]\n"
     ]
    },
    {
     "data": {
      "image/png": "[encoded data removed]",
      "text/plain": [
       "<Figure size 432x288 with 1 Axes>"
      ]
     },
     "metadata": {
      "needs_background": "dark"
     },
     "output_type": "display_data"
    }
   ],
   "source": [
    "import scipy.stats as ss\n",
    "b = ss.distributions.binom\n",
    "for flips in [5, 10, 20, 40, 80]: # binomial with .5 is result of many coin flips # Creates an evenly spaced array from 0 to flips. success = np.arange(flips)\n",
    "    success = np.arange(flips)\n",
    "    print(\"Successes:\", success)\n",
    "    # pmf see definition above\n",
    "    our_distribution = b.pmf(success, flips, .5)\n",
    "    print(\"PMF:\", our_distribution)\n",
    "\n",
    "    # https://matplotlib.org/3.3.3/api/_as_gen/matplotlib.pyplot.hist.html\n",
    "    plt.hist(success, flips, weights=our_distribution)\n",
    "# Sets the limit of the x axis from 0 to 55\n",
    "plt.xlim(0, 55);"
   ]
  },
  {
   "cell_type": "code",
   "execution_count": 6,
   "metadata": {
    "collapsed": false,
    "jupyter": {
     "outputs_hidden": false
    },
    "pycharm": {
     "name": "#%%\n"
    }
   },
   "outputs": [
    {
     "name": "stdout",
     "output_type": "stream",
     "text": [
      "norm_x [[-0.8541]\n",
      " [-0.7863]\n",
      " [-0.7186]\n",
      " [-0.6508]\n",
      " [-0.5831]\n",
      " [-0.5153]\n",
      " [-0.4475]\n",
      " [-0.3798]\n",
      " [-0.312 ]\n",
      " [-0.2443]\n",
      " [-0.1765]\n",
      " [-0.1087]\n",
      " [-0.041 ]\n",
      " [ 0.0268]\n",
      " [ 0.0945]\n",
      " [ 0.1623]\n",
      " [ 0.2301]\n",
      " [ 0.2978]\n",
      " [ 0.3656]\n",
      " [ 0.4333]\n",
      " [ 0.5011]\n",
      " [ 0.5689]\n",
      " [ 0.6366]\n",
      " [ 0.7044]\n",
      " [ 0.7721]\n",
      " [ 0.8399]\n",
      " [ 0.9076]\n",
      " [ 0.9754]\n",
      " [ 1.0432]\n",
      " [ 1.1109]\n",
      " [ 1.1787]\n",
      " [ 1.2464]\n",
      " [ 1.3142]\n",
      " [ 1.382 ]\n",
      " [ 1.4497]\n",
      " [ 1.5175]\n",
      " [ 1.5852]\n",
      " [ 1.653 ]\n",
      " [ 1.7208]\n",
      " [ 1.7885]\n",
      " [ 1.8563]\n",
      " [ 1.924 ]\n",
      " [ 1.9918]\n",
      " [ 2.0596]\n",
      " [ 2.1273]\n",
      " [ 2.1951]\n",
      " [ 2.2628]\n",
      " [ 2.3306]\n",
      " [ 2.3984]\n",
      " [ 2.4661]\n",
      " [ 2.5339]\n",
      " [ 2.6016]\n",
      " [ 2.6694]\n",
      " [ 2.7372]\n",
      " [ 2.8049]\n",
      " [ 2.8727]\n",
      " [ 2.9404]\n",
      " [ 3.0082]\n",
      " [ 3.076 ]\n",
      " [ 3.1437]\n",
      " [ 3.2115]\n",
      " [ 3.2792]\n",
      " [ 3.347 ]\n",
      " [ 3.4148]\n",
      " [ 3.4825]\n",
      " [ 3.5503]\n",
      " [ 3.618 ]\n",
      " [ 3.6858]\n",
      " [ 3.7536]\n",
      " [ 3.8213]\n",
      " [ 3.8891]\n",
      " [ 3.9568]\n",
      " [ 4.0246]\n",
      " [ 4.0924]\n",
      " [ 4.1601]\n",
      " [ 4.2279]\n",
      " [ 4.2956]\n",
      " [ 4.3634]\n",
      " [ 4.4311]\n",
      " [ 4.4989]\n",
      " [ 4.5667]\n",
      " [ 4.6344]\n",
      " [ 4.7022]\n",
      " [ 4.7699]\n",
      " [ 4.8377]\n",
      " [ 4.9055]\n",
      " [ 4.9732]\n",
      " [ 5.041 ]\n",
      " [ 5.1087]\n",
      " [ 5.1765]\n",
      " [ 5.2443]\n",
      " [ 5.312 ]\n",
      " [ 5.3798]\n",
      " [ 5.4475]\n",
      " [ 5.5153]\n",
      " [ 5.5831]\n",
      " [ 5.6508]\n",
      " [ 5.7186]\n",
      " [ 5.7863]\n",
      " [ 5.8541]]\n",
      "norm_x [[0.2566]\n",
      " [0.3524]\n",
      " [0.4482]\n",
      " [0.5441]\n",
      " [0.6399]\n",
      " [0.7357]\n",
      " [0.8315]\n",
      " [0.9274]\n",
      " [1.0232]\n",
      " [1.119 ]\n",
      " [1.2148]\n",
      " [1.3107]\n",
      " [1.4065]\n",
      " [1.5023]\n",
      " [1.5982]\n",
      " [1.694 ]\n",
      " [1.7898]\n",
      " [1.8856]\n",
      " [1.9815]\n",
      " [2.0773]\n",
      " [2.1731]\n",
      " [2.2689]\n",
      " [2.3648]\n",
      " [2.4606]\n",
      " [2.5564]\n",
      " [2.6522]\n",
      " [2.7481]\n",
      " [2.8439]\n",
      " [2.9397]\n",
      " [3.0356]\n",
      " [3.1314]\n",
      " [3.2272]\n",
      " [3.323 ]\n",
      " [3.4189]\n",
      " [3.5147]\n",
      " [3.6105]\n",
      " [3.7063]\n",
      " [3.8022]\n",
      " [3.898 ]\n",
      " [3.9938]\n",
      " [4.0896]\n",
      " [4.1855]\n",
      " [4.2813]\n",
      " [4.3771]\n",
      " [4.473 ]\n",
      " [4.5688]\n",
      " [4.6646]\n",
      " [4.7604]\n",
      " [4.8563]\n",
      " [4.9521]\n",
      " [5.0479]\n",
      " [5.1437]\n",
      " [5.2396]\n",
      " [5.3354]\n",
      " [5.4312]\n",
      " [5.527 ]\n",
      " [5.6229]\n",
      " [5.7187]\n",
      " [5.8145]\n",
      " [5.9104]\n",
      " [6.0062]\n",
      " [6.102 ]\n",
      " [6.1978]\n",
      " [6.2937]\n",
      " [6.3895]\n",
      " [6.4853]\n",
      " [6.5811]\n",
      " [6.677 ]\n",
      " [6.7728]\n",
      " [6.8686]\n",
      " [6.9644]\n",
      " [7.0603]\n",
      " [7.1561]\n",
      " [7.2519]\n",
      " [7.3478]\n",
      " [7.4436]\n",
      " [7.5394]\n",
      " [7.6352]\n",
      " [7.7311]\n",
      " [7.8269]\n",
      " [7.9227]\n",
      " [8.0185]\n",
      " [8.1144]\n",
      " [8.2102]\n",
      " [8.306 ]\n",
      " [8.4018]\n",
      " [8.4977]\n",
      " [8.5935]\n",
      " [8.6893]\n",
      " [8.7852]\n",
      " [8.881 ]\n",
      " [8.9768]\n",
      " [9.0726]\n",
      " [9.1685]\n",
      " [9.2643]\n",
      " [9.3601]\n",
      " [9.4559]\n",
      " [9.5518]\n",
      " [9.6476]\n",
      " [9.7434]]\n",
      "norm_x [[ 3.2918]\n",
      " [ 3.4273]\n",
      " [ 3.5628]\n",
      " [ 3.6984]\n",
      " [ 3.8339]\n",
      " [ 3.9694]\n",
      " [ 4.1049]\n",
      " [ 4.2404]\n",
      " [ 4.376 ]\n",
      " [ 4.5115]\n",
      " [ 4.647 ]\n",
      " [ 4.7825]\n",
      " [ 4.918 ]\n",
      " [ 5.0535]\n",
      " [ 5.1891]\n",
      " [ 5.3246]\n",
      " [ 5.4601]\n",
      " [ 5.5956]\n",
      " [ 5.7311]\n",
      " [ 5.8667]\n",
      " [ 6.0022]\n",
      " [ 6.1377]\n",
      " [ 6.2732]\n",
      " [ 6.4087]\n",
      " [ 6.5443]\n",
      " [ 6.6798]\n",
      " [ 6.8153]\n",
      " [ 6.9508]\n",
      " [ 7.0863]\n",
      " [ 7.2219]\n",
      " [ 7.3574]\n",
      " [ 7.4929]\n",
      " [ 7.6284]\n",
      " [ 7.7639]\n",
      " [ 7.8995]\n",
      " [ 8.035 ]\n",
      " [ 8.1705]\n",
      " [ 8.306 ]\n",
      " [ 8.4415]\n",
      " [ 8.577 ]\n",
      " [ 8.7126]\n",
      " [ 8.8481]\n",
      " [ 8.9836]\n",
      " [ 9.1191]\n",
      " [ 9.2546]\n",
      " [ 9.3902]\n",
      " [ 9.5257]\n",
      " [ 9.6612]\n",
      " [ 9.7967]\n",
      " [ 9.9322]\n",
      " [10.0678]\n",
      " [10.2033]\n",
      " [10.3388]\n",
      " [10.4743]\n",
      " [10.6098]\n",
      " [10.7454]\n",
      " [10.8809]\n",
      " [11.0164]\n",
      " [11.1519]\n",
      " [11.2874]\n",
      " [11.423 ]\n",
      " [11.5585]\n",
      " [11.694 ]\n",
      " [11.8295]\n",
      " [11.965 ]\n",
      " [12.1005]\n",
      " [12.2361]\n",
      " [12.3716]\n",
      " [12.5071]\n",
      " [12.6426]\n",
      " [12.7781]\n",
      " [12.9137]\n",
      " [13.0492]\n",
      " [13.1847]\n",
      " [13.3202]\n",
      " [13.4557]\n",
      " [13.5913]\n",
      " [13.7268]\n",
      " [13.8623]\n",
      " [13.9978]\n",
      " [14.1333]\n",
      " [14.2689]\n",
      " [14.4044]\n",
      " [14.5399]\n",
      " [14.6754]\n",
      " [14.8109]\n",
      " [14.9465]\n",
      " [15.082 ]\n",
      " [15.2175]\n",
      " [15.353 ]\n",
      " [15.4885]\n",
      " [15.624 ]\n",
      " [15.7596]\n",
      " [15.8951]\n",
      " [16.0306]\n",
      " [16.1661]\n",
      " [16.3016]\n",
      " [16.4372]\n",
      " [16.5727]\n",
      " [16.7082]]\n",
      "norm_x [[10.5132]\n",
      " [10.7048]\n",
      " [10.8965]\n",
      " [11.0881]\n",
      " [11.2798]\n",
      " [11.4714]\n",
      " [11.6631]\n",
      " [11.8547]\n",
      " [12.0464]\n",
      " [12.238 ]\n",
      " [12.4297]\n",
      " [12.6214]\n",
      " [12.813 ]\n",
      " [13.0047]\n",
      " [13.1963]\n",
      " [13.388 ]\n",
      " [13.5796]\n",
      " [13.7713]\n",
      " [13.9629]\n",
      " [14.1546]\n",
      " [14.3462]\n",
      " [14.5379]\n",
      " [14.7295]\n",
      " [14.9212]\n",
      " [15.1128]\n",
      " [15.3045]\n",
      " [15.4961]\n",
      " [15.6878]\n",
      " [15.8795]\n",
      " [16.0711]\n",
      " [16.2628]\n",
      " [16.4544]\n",
      " [16.6461]\n",
      " [16.8377]\n",
      " [17.0294]\n",
      " [17.221 ]\n",
      " [17.4127]\n",
      " [17.6043]\n",
      " [17.796 ]\n",
      " [17.9876]\n",
      " [18.1793]\n",
      " [18.3709]\n",
      " [18.5626]\n",
      " [18.7543]\n",
      " [18.9459]\n",
      " [19.1376]\n",
      " [19.3292]\n",
      " [19.5209]\n",
      " [19.7125]\n",
      " [19.9042]\n",
      " [20.0958]\n",
      " [20.2875]\n",
      " [20.4791]\n",
      " [20.6708]\n",
      " [20.8624]\n",
      " [21.0541]\n",
      " [21.2457]\n",
      " [21.4374]\n",
      " [21.6291]\n",
      " [21.8207]\n",
      " [22.0124]\n",
      " [22.204 ]\n",
      " [22.3957]\n",
      " [22.5873]\n",
      " [22.779 ]\n",
      " [22.9706]\n",
      " [23.1623]\n",
      " [23.3539]\n",
      " [23.5456]\n",
      " [23.7372]\n",
      " [23.9289]\n",
      " [24.1205]\n",
      " [24.3122]\n",
      " [24.5039]\n",
      " [24.6955]\n",
      " [24.8872]\n",
      " [25.0788]\n",
      " [25.2705]\n",
      " [25.4621]\n",
      " [25.6538]\n",
      " [25.8454]\n",
      " [26.0371]\n",
      " [26.2287]\n",
      " [26.4204]\n",
      " [26.612 ]\n",
      " [26.8037]\n",
      " [26.9953]\n",
      " [27.187 ]\n",
      " [27.3786]\n",
      " [27.5703]\n",
      " [27.762 ]\n",
      " [27.9536]\n",
      " [28.1453]\n",
      " [28.3369]\n",
      " [28.5286]\n",
      " [28.7202]\n",
      " [28.9119]\n",
      " [29.1035]\n",
      " [29.2952]\n",
      " [29.4868]]\n",
      "norm_x [[26.5836]\n",
      " [26.8546]\n",
      " [27.1257]\n",
      " [27.3967]\n",
      " [27.6677]\n",
      " [27.9388]\n",
      " [28.2098]\n",
      " [28.4809]\n",
      " [28.7519]\n",
      " [29.0229]\n",
      " [29.294 ]\n",
      " [29.565 ]\n",
      " [29.8361]\n",
      " [30.1071]\n",
      " [30.3781]\n",
      " [30.6492]\n",
      " [30.9202]\n",
      " [31.1912]\n",
      " [31.4623]\n",
      " [31.7333]\n",
      " [32.0044]\n",
      " [32.2754]\n",
      " [32.5464]\n",
      " [32.8175]\n",
      " [33.0885]\n",
      " [33.3596]\n",
      " [33.6306]\n",
      " [33.9016]\n",
      " [34.1727]\n",
      " [34.4437]\n",
      " [34.7147]\n",
      " [34.9858]\n",
      " [35.2568]\n",
      " [35.5279]\n",
      " [35.7989]\n",
      " [36.0699]\n",
      " [36.341 ]\n",
      " [36.612 ]\n",
      " [36.8831]\n",
      " [37.1541]\n",
      " [37.4251]\n",
      " [37.6962]\n",
      " [37.9672]\n",
      " [38.2382]\n",
      " [38.5093]\n",
      " [38.7803]\n",
      " [39.0514]\n",
      " [39.3224]\n",
      " [39.5934]\n",
      " [39.8645]\n",
      " [40.1355]\n",
      " [40.4066]\n",
      " [40.6776]\n",
      " [40.9486]\n",
      " [41.2197]\n",
      " [41.4907]\n",
      " [41.7618]\n",
      " [42.0328]\n",
      " [42.3038]\n",
      " [42.5749]\n",
      " [42.8459]\n",
      " [43.1169]\n",
      " [43.388 ]\n",
      " [43.659 ]\n",
      " [43.9301]\n",
      " [44.2011]\n",
      " [44.4721]\n",
      " [44.7432]\n",
      " [45.0142]\n",
      " [45.2853]\n",
      " [45.5563]\n",
      " [45.8273]\n",
      " [46.0984]\n",
      " [46.3694]\n",
      " [46.6404]\n",
      " [46.9115]\n",
      " [47.1825]\n",
      " [47.4536]\n",
      " [47.7246]\n",
      " [47.9956]\n",
      " [48.2667]\n",
      " [48.5377]\n",
      " [48.8088]\n",
      " [49.0798]\n",
      " [49.3508]\n",
      " [49.6219]\n",
      " [49.8929]\n",
      " [50.1639]\n",
      " [50.435 ]\n",
      " [50.706 ]\n",
      " [50.9771]\n",
      " [51.2481]\n",
      " [51.5191]\n",
      " [51.7902]\n",
      " [52.0612]\n",
      " [52.3323]\n",
      " [52.6033]\n",
      " [52.8743]\n",
      " [53.1454]\n",
      " [53.4164]]\n"
     ]
    },
    {
     "data": {
      "image/png": "[encoded data removed]",
      "text/plain": [
       "<Figure size 432x288 with 1 Axes>"
      ]
     },
     "metadata": {
      "needs_background": "dark"
     },
     "output_type": "display_data"
    }
   ],
   "source": [
    "b = ss.distributions.binom\n",
    "n = ss.distributions.norm\n",
    "\n",
    "for flips in [5, 10, 20, 40, 80]:\n",
    "    # binomial coin flips\n",
    "    success = np.arange(flips)\n",
    "    our_distribution = b.pmf(success, flips, .5)\n",
    "    plt.hist(success, flips, weights=our_distribution)\n",
    "\n",
    "    # normal approximation to that binomial\n",
    "    # we have to set the mean and standard deviation\n",
    "    mu      = flips * .5,\n",
    "    std_dev = np.sqrt(flips * .5 * (1-.5))\n",
    "\n",
    "    # we have to set up both the x and y points for the normal\n",
    "    # we get the ys from the distribution (a function)\n",
    "    # we have to feed it xs, we set those up here\n",
    "    # linspace Return evenly spaced numbers over a specified interval.\n",
    "    norm_x = np.linspace(mu-3*std_dev, mu+3*std_dev, 100)\n",
    "    print(\"norm_x\", norm_x)\n",
    "    norm_y = n.pdf(norm_x, mu, std_dev)\n",
    "    plt.plot(norm_x, norm_y, 'k');\n",
    "\n",
    "plt.xlim(0, 55);"
   ]
  },
  {
   "cell_type": "markdown",
   "metadata": {},
   "source": [
    "2.5 LINEAR COMBINATIONS, WEIGHTED SUMS, AND DOT PRODUCTS\n",
    "\n",
    "<table>\n",
    "<tr>\n",
    "    <th>Product</th>\n",
    "    <th>Quantity></th>\n",
    "    <th>Cost Per</th>\n",
    "</tr>\n",
    "\n",
    "<tr>\n",
    "    <td>Wine</td>\n",
    "    <td>2</td>\n",
    "    <td>12.50</td>\n",
    "</tr>\n",
    "<tr>\n",
    "    <td>Orange</td>\n",
    "    <td>12</td>\n",
    "    <td>.50</td>\n",
    "</tr>\n",
    "<tr>\n",
    "    <td>Muffin</td>\n",
    "    <td>3</td>\n",
    "    <td>1.75</td>\n",
    "</tr>\n",
    "</table>\n",
    "\n",
    "Weighted Sums:"
   ]
  },
  {
   "cell_type": "code",
   "execution_count": 7,
   "metadata": {
    "collapsed": false,
    "jupyter": {
     "outputs_hidden": false
    },
    "pycharm": {
     "name": "#%%\n"
    }
   },
   "outputs": [
    {
     "data": {
      "text/plain": [
       "36.25"
      ]
     },
     "execution_count": 7,
     "metadata": {},
     "output_type": "execute_result"
    }
   ],
   "source": [
    "(2 * 12.50) + (12 * .5) + (3 * 1.75)"
   ]
  },
  {
   "cell_type": "code",
   "execution_count": 8,
   "metadata": {
    "collapsed": false,
    "jupyter": {
     "outputs_hidden": false
    },
    "pycharm": {
     "name": "#%%\n"
    }
   },
   "outputs": [
    {
     "name": "stdout",
     "output_type": "stream",
     "text": [
      "2 12.5\n",
      "12 0.5\n",
      "3 1.75\n",
      "Sum: 36.25\n"
     ]
    }
   ],
   "source": [
    "# pure python, for the new-school, cool kids\n",
    "quantity = [2, 12, 3]\n",
    "costs    = [12.5, .5, 1.75]\n",
    "z = zip(quantity,costs)\n",
    "for q,c in z:\n",
    "    print(q,c)\n",
    "print(\"Sum:\",\n",
    "      sum(q*c for q,c in zip(quantity,costs)))"
   ]
  },
  {
   "cell_type": "code",
   "execution_count": 16,
   "metadata": {
    "collapsed": false,
    "jupyter": {
     "outputs_hidden": false
    },
    "pycharm": {
     "name": "#%%\n"
    }
   },
   "outputs": [
    {
     "data": {
      "text/plain": [
       "17.5"
      ]
     },
     "execution_count": 16,
     "metadata": {},
     "output_type": "execute_result"
    }
   ],
   "source": [
    "values  = np.array([10,  20,  30])\n",
    "weights = np.array([.5, .25, .25])\n",
    "\n",
    "np.dot(weights, values)"
   ]
  },
  {
   "cell_type": "markdown",
   "metadata": {},
   "source": [
    "### 2.5.2 Sum of squares\n",
    "$$dot(values,values)=\\sum_iv_iυ_i=\\sum_iυ_i^2 $$\n",
    "\n",
    "### 2.5.3 Sum of Squared Errors\n",
    "`error = predicted – actual`\n",
    "\n",
    "sq_error = $$error^2$$"
   ]
  },
  {
   "cell_type": "code",
   "execution_count": 10,
   "metadata": {
    "collapsed": false,
    "jupyter": {
     "outputs_hidden": false
    },
    "pycharm": {
     "name": "#%%\n"
    }
   },
   "outputs": [
    {
     "data": {
      "text/html": [
       "<div>\n",
       "<style scoped>\n",
       "    .dataframe tbody tr th:only-of-type {\n",
       "        vertical-align: middle;\n",
       "    }\n",
       "\n",
       "    .dataframe tbody tr th {\n",
       "        vertical-align: top;\n",
       "    }\n",
       "\n",
       "    .dataframe thead th {\n",
       "        text-align: right;\n",
       "    }\n",
       "</style>\n",
       "<table border=\"1\" class=\"dataframe\">\n",
       "  <thead>\n",
       "    <tr style=\"text-align: right;\">\n",
       "      <th></th>\n",
       "      <th>errors</th>\n",
       "      <th>squared</th>\n",
       "    </tr>\n",
       "  </thead>\n",
       "  <tbody>\n",
       "    <tr>\n",
       "      <th>0</th>\n",
       "      <td>5.0000</td>\n",
       "      <td>25.0000</td>\n",
       "    </tr>\n",
       "    <tr>\n",
       "      <th>1</th>\n",
       "      <td>-5.0000</td>\n",
       "      <td>25.0000</td>\n",
       "    </tr>\n",
       "    <tr>\n",
       "      <th>2</th>\n",
       "      <td>3.2000</td>\n",
       "      <td>10.2400</td>\n",
       "    </tr>\n",
       "    <tr>\n",
       "      <th>3</th>\n",
       "      <td>-1.1000</td>\n",
       "      <td>1.2100</td>\n",
       "    </tr>\n",
       "  </tbody>\n",
       "</table>\n",
       "</div>"
      ],
      "text/latex": [
       "{\\centering\n",
       "\\begin{tabular}{lrr}\n",
       "\\toprule\n",
       "{} &               errors &              squared \\\\\n",
       "\\midrule\n",
       "0 &               5.0000 &              25.0000 \\\\\n",
       "1 &              -5.0000 &              25.0000 \\\\\n",
       "2 &               3.2000 &              10.2400 \\\\\n",
       "3 &              -1.1000 &               1.2100 \\\\\n",
       "\\bottomrule\n",
       "\\end{tabular}\n",
       "\n",
       "\\medskip}"
      ],
      "text/plain": [
       "                errors              squared\n",
       "0               5.0000              25.0000\n",
       "1              -5.0000              25.0000\n",
       "2               3.2000              10.2400\n",
       "3              -1.1000               1.2100"
      ]
     },
     "metadata": {},
     "output_type": "display_data"
    }
   ],
   "source": [
    "errors = np.array([5, -5, 3.2, -1.1])\n",
    "display(pd.DataFrame({'errors':errors,\n",
    "                      'squared':errors*errors}))"
   ]
  },
  {
   "cell_type": "code",
   "execution_count": 33,
   "metadata": {
    "collapsed": false,
    "jupyter": {
     "outputs_hidden": false
    },
    "pycharm": {
     "name": "#%%\n"
    }
   },
   "outputs": [
    {
     "data": {
      "text/html": [
       "<div>\n",
       "<style scoped>\n",
       "    .dataframe tbody tr th:only-of-type {\n",
       "        vertical-align: middle;\n",
       "    }\n",
       "\n",
       "    .dataframe tbody tr th {\n",
       "        vertical-align: top;\n",
       "    }\n",
       "\n",
       "    .dataframe thead th {\n",
       "        text-align: right;\n",
       "    }\n",
       "</style>\n",
       "<table border=\"1\" class=\"dataframe\">\n",
       "  <thead>\n",
       "    <tr style=\"text-align: right;\">\n",
       "      <th></th>\n",
       "      <th>0</th>\n",
       "      <th>1</th>\n",
       "    </tr>\n",
       "  </thead>\n",
       "  <tbody>\n",
       "    <tr>\n",
       "      <th>0</th>\n",
       "      <td>-3.0000</td>\n",
       "      <td>1.0000</td>\n",
       "    </tr>\n",
       "    <tr>\n",
       "      <th>1</th>\n",
       "      <td>-2.9394</td>\n",
       "      <td>1.0000</td>\n",
       "    </tr>\n",
       "    <tr>\n",
       "      <th>2</th>\n",
       "      <td>-2.8788</td>\n",
       "      <td>1.0000</td>\n",
       "    </tr>\n",
       "    <tr>\n",
       "      <th>3</th>\n",
       "      <td>-2.8182</td>\n",
       "      <td>1.0000</td>\n",
       "    </tr>\n",
       "    <tr>\n",
       "      <th>4</th>\n",
       "      <td>-2.7576</td>\n",
       "      <td>1.0000</td>\n",
       "    </tr>\n",
       "  </tbody>\n",
       "</table>\n",
       "</div>"
      ],
      "text/latex": [
       "{\\centering\n",
       "\\begin{tabular}{lrr}\n",
       "\\toprule\n",
       "{} &                    0 &                    1 \\\\\n",
       "\\midrule\n",
       "0 &              -3.0000 &               1.0000 \\\\\n",
       "1 &              -2.9394 &               1.0000 \\\\\n",
       "2 &              -2.8788 &               1.0000 \\\\\n",
       "3 &              -2.8182 &               1.0000 \\\\\n",
       "4 &              -2.7576 &               1.0000 \\\\\n",
       "\\bottomrule\n",
       "\\end{tabular}\n",
       "\n",
       "\\medskip}"
      ],
      "text/plain": [
       "                     0                    1\n",
       "0              -3.0000               1.0000\n",
       "1              -2.9394               1.0000\n",
       "2              -2.8788               1.0000\n",
       "3              -2.8182               1.0000\n",
       "4              -2.7576               1.0000"
      ]
     },
     "metadata": {},
     "output_type": "display_data"
    },
    {
     "data": {
      "image/png": "[encoded data removed]",
      "text/plain": [
       "<Figure size 432x288 with 1 Axes>"
      ]
     },
     "metadata": {
      "needs_background": "dark"
     },
     "output_type": "display_data"
    }
   ],
   "source": [
    "# np.c_[] lets us create an array column-by-column\n",
    "xs    = np.linspace(-3, 3, 100)\n",
    "\n",
    "xs_p1 = np.c_[xs, np.ones_like(xs)]\n",
    "\n",
    "# view the first few rows\n",
    "display(pd.DataFrame(xs_p1).head())\n",
    "\n",
    "w  = np.array([1.5, -3])\n",
    "ys = np.dot(xs_p1, w)\n",
    "ax = plt.gca()\n",
    "ax.plot(xs, ys)\n",
    "\n",
    "# styling\n",
    "ax.set_ylim(-4, 4)\n",
    "high_school_style(ax)\n",
    "ax.plot(0, -3,'ro') # y-intercept\n",
    "ax.plot(2, 0,'ro'); # two steps to the right should be three whole steps up"
   ]
  },
  {
   "cell_type": "markdown",
   "metadata": {},
   "source": [
    "### 2.6.2 Beyond Lines"
   ]
  },
  {
   "cell_type": "code",
   "execution_count": 12,
   "metadata": {
    "collapsed": false,
    "jupyter": {
     "outputs_hidden": false
    },
    "pycharm": {
     "name": "#%%\n"
    }
   },
   "outputs": [
    {
     "data": {
      "text/html": [
       "<div>\n",
       "<style scoped>\n",
       "    .dataframe tbody tr th:only-of-type {\n",
       "        vertical-align: middle;\n",
       "    }\n",
       "\n",
       "    .dataframe tbody tr th {\n",
       "        vertical-align: top;\n",
       "    }\n",
       "\n",
       "    .dataframe thead th {\n",
       "        text-align: right;\n",
       "    }\n",
       "</style>\n",
       "<table border=\"1\" class=\"dataframe\">\n",
       "  <thead>\n",
       "    <tr style=\"text-align: right;\">\n",
       "      <th></th>\n",
       "      <th>People</th>\n",
       "      <th>RootBeer</th>\n",
       "      <th>HotDogs</th>\n",
       "      <th>TotalCost</th>\n",
       "    </tr>\n",
       "  </thead>\n",
       "  <tbody>\n",
       "    <tr>\n",
       "      <th>0</th>\n",
       "      <td>2</td>\n",
       "      <td>0</td>\n",
       "      <td>2</td>\n",
       "      <td>210</td>\n",
       "    </tr>\n",
       "    <tr>\n",
       "      <th>1</th>\n",
       "      <td>2</td>\n",
       "      <td>0</td>\n",
       "      <td>4</td>\n",
       "      <td>220</td>\n",
       "    </tr>\n",
       "    <tr>\n",
       "      <th>2</th>\n",
       "      <td>3</td>\n",
       "      <td>0</td>\n",
       "      <td>2</td>\n",
       "      <td>290</td>\n",
       "    </tr>\n",
       "    <tr>\n",
       "      <th>3</th>\n",
       "      <td>3</td>\n",
       "      <td>0</td>\n",
       "      <td>4</td>\n",
       "      <td>300</td>\n",
       "    </tr>\n",
       "    <tr>\n",
       "      <th>4</th>\n",
       "      <td>2</td>\n",
       "      <td>1</td>\n",
       "      <td>2</td>\n",
       "      <td>220</td>\n",
       "    </tr>\n",
       "    <tr>\n",
       "      <th>5</th>\n",
       "      <td>2</td>\n",
       "      <td>1</td>\n",
       "      <td>4</td>\n",
       "      <td>230</td>\n",
       "    </tr>\n",
       "    <tr>\n",
       "      <th>6</th>\n",
       "      <td>3</td>\n",
       "      <td>1</td>\n",
       "      <td>2</td>\n",
       "      <td>300</td>\n",
       "    </tr>\n",
       "    <tr>\n",
       "      <th>7</th>\n",
       "      <td>3</td>\n",
       "      <td>1</td>\n",
       "      <td>4</td>\n",
       "      <td>310</td>\n",
       "    </tr>\n",
       "  </tbody>\n",
       "</table>\n",
       "</div>"
      ],
      "text/latex": [
       "{\\centering\n",
       "\\begin{tabular}{lrrrr}\n",
       "\\toprule\n",
       "{} &  People &  RootBeer &  HotDogs &  TotalCost \\\\\n",
       "\\midrule\n",
       "0 &       2 &         0 &        2 &        210 \\\\\n",
       "1 &       2 &         0 &        4 &        220 \\\\\n",
       "2 &       3 &         0 &        2 &        290 \\\\\n",
       "3 &       3 &         0 &        4 &        300 \\\\\n",
       "4 &       2 &         1 &        2 &        220 \\\\\n",
       "5 &       2 &         1 &        4 &        230 \\\\\n",
       "6 &       3 &         1 &        2 &        300 \\\\\n",
       "7 &       3 &         1 &        4 &        310 \\\\\n",
       "\\bottomrule\n",
       "\\end{tabular}\n",
       "\n",
       "\\medskip}"
      ],
      "text/plain": [
       "   People  RootBeer  HotDogs  TotalCost\n",
       "0       2         0        2        210\n",
       "1       2         0        4        220\n",
       "2       3         0        2        290\n",
       "3       3         0        4        300\n",
       "4       2         1        2        220\n",
       "5       2         1        4        230\n",
       "6       3         1        2        300\n",
       "7       3         1        4        310"
      ]
     },
     "metadata": {},
     "output_type": "display_data"
    },
    {
     "data": {
      "image/png": "[encoded data removed]",
      "text/plain": [
       "<Figure size 648x432 with 6 Axes>"
      ]
     },
     "metadata": {
      "needs_background": "dark"
     },
     "output_type": "display_data"
    }
   ],
   "source": [
    "number_people = np.arange(1, 11) # 1-10 people\n",
    "number_rbs    = np.arange(0, 20) # 0-19 rootbeers\n",
    "\n",
    "# numpy tool to get cross-product of values (each against each)\n",
    "# in two paired arrays. try it out: np.meshgrid([0, 1], [10, 20])\n",
    "# \"perfect\" for functions of multiple variables\n",
    "number_people, number_rbs = np.meshgrid(number_people, number_rbs)\n",
    "\n",
    "total_cost = 80 * number_people + 10 * number_rbs + 40\n",
    "from mpl_toolkits.mplot3d import Axes3D\n",
    "fig,axes = plt.subplots(2, 3,\n",
    "                        subplot_kw={'projection':'3d'},\n",
    "                        figsize=(9, 6))\n",
    "\n",
    "angles = [0, 45, 90, 135, 180]\n",
    "for ax,angle in zip(axes.flat, angles):\n",
    "    ax.plot_surface(number_people, number_rbs, total_cost)\n",
    "    ax.set_xlabel(\"People\")\n",
    "    ax.set_ylabel(\"RootBeers\")\n",
    "    ax.set_zlabel(\"TotalCost\")\n",
    "    ax.azim = angle\n",
    "\n",
    "# we don't use the last axis\n",
    "axes.flat[-1].axis('off')\n",
    "fig.tight_layout()\n",
    "\n",
    "number_people  = np.array([2, 3])\n",
    "number_rbs     = np.array([0, 1, 2])\n",
    "number_hotdogs = np.array([2, 4])\n",
    "\n",
    "costs = np.array([80, 10, 5])\n",
    "\n",
    "columns = [\"People\", \"RootBeer\", \"HotDogs\", \"TotalCost\"]\n",
    "\n",
    "counts = np_cartesian_product(number_people,\n",
    "                              number_rbs,\n",
    "                              number_hotdogs)\n",
    "\n",
    "totals = (costs[0] * counts[:, 0] +\n",
    "          costs[1] * counts[:, 1] +\n",
    "          costs[2] * counts[:, 2] + 40)\n",
    "\n",
    "display(pd.DataFrame(np.c_[counts, totals],\n",
    "                     columns=columns).head(8))"
   ]
  },
  {
   "cell_type": "markdown",
   "metadata": {},
   "source": [
    "\\+ 1 Trick\n",
    "\n",
    "Essentially $$x_3^+ = (x_3, x_2, x_1, 1) $$\n",
    "\n",
    "I'm sure there is a more mathematical way to state that.\n",
    "\n",
    "### 2.8.2 Nonlinearity"
   ]
  },
  {
   "cell_type": "code",
   "execution_count": 13,
   "metadata": {
    "collapsed": false,
    "jupyter": {
     "outputs_hidden": false
    },
    "pycharm": {
     "name": "#%%\n"
    }
   },
   "outputs": [
    {
     "name": "stdout",
     "output_type": "stream",
     "text": [
      "[-4.1977]\n",
      "[ 0.2451 -0.896 ]\n",
      "[ 4.8238 -3.8796 -1.0214]\n",
      "[ 4.6947  3.6551  3.1707 -2.421 ]\n"
     ]
    },
    {
     "data": {
      "image/png": "[encoded data removed]",
      "text/plain": [
       "<Figure size 432x288 with 4 Axes>"
      ]
     },
     "metadata": {
      "needs_background": "dark"
     },
     "output_type": "display_data"
    }
   ],
   "source": [
    "fig, axes = plt.subplots(2, 2)\n",
    "fig.tight_layout()\n",
    "\n",
    "titles = [\"$y=c_0$\",\n",
    "          \"$y=c_1x+c_0$\",\n",
    "          \"$y=c_2x^2+c_1x+c_0$\",\n",
    "          \"$y=c_3x^3+c_2x^2+c_1x+c_0$\"]\n",
    "\n",
    "xs = np.linspace(-10, 10, 100)\n",
    "for power, (ax, title) in enumerate(zip(axes.flat, titles), 1):\n",
    "     # np.random.uniform(low, high, size) returns an array of uniform numbers.\n",
    "     coeffs = np.random.uniform(-5, 5, power)\n",
    "     print(coeffs)\n",
    "     poly = np.poly1d(coeffs)\n",
    "     ax.plot(xs, poly(xs))\n",
    "     ax.set_title(title)"
   ]
  },
  {
   "cell_type": "markdown",
   "metadata": {},
   "source": [
    "$$y_2 = c_2x^2 + c_1x^1 + c_0x^0 = \\sum_{i}^2 c_ix^i$$ is dot product\n"
   ]
  },
  {
   "cell_type": "code",
   "execution_count": 14,
   "metadata": {
    "collapsed": false,
    "jupyter": {
     "outputs_hidden": false
    },
    "pycharm": {
     "name": "#%%\n"
    }
   },
   "outputs": [
    {
     "data": {
      "image/png": "[encoded data removed]",
      "text/plain": [
       "<Figure size 432x288 with 1 Axes>"
      ]
     },
     "metadata": {
      "needs_background": "dark"
     },
     "output_type": "display_data"
    }
   ],
   "source": [
    "plt.Figure((2, 1.5))\n",
    "\n",
    "# Return evenly spaced numbers over a specified interval.\n",
    "xs = np.linspace(start=-10, stop=10, num=101)\n",
    "coeffs = np.array([2, 3, 4])\n",
    "ys = np.dot(coeffs, [xs**2, xs**1, xs**0])\n",
    "\n",
    "# nice parabola via a dot product\n",
    "plt.plot(xs, ys);"
   ]
  },
  {
   "cell_type": "markdown",
   "metadata": {
    "pycharm": {
     "name": "#%% md\n"
    }
   },
   "source": [
    "Dot product's result is the sum of squares for the array"
   ]
  },
  {
   "cell_type": "code",
   "execution_count": 15,
   "metadata": {
    "collapsed": false,
    "jupyter": {
     "outputs_hidden": false
    },
    "pycharm": {
     "name": "#%%\n"
    }
   },
   "outputs": [
    {
     "name": "stdout",
     "output_type": "stream",
     "text": [
      "[0 1 2 3 4] --> [ 0  1  4  9 16]\n",
      "self dot: 30\n"
     ]
    }
   ],
   "source": [
    "oned_vec = np.arange(5)\n",
    "print(oned_vec, \"-->\", oned_vec * oned_vec)\n",
    "print(\"self dot:\", np.dot(oned_vec, oned_vec))"
   ]
  },
  {
   "cell_type": "code",
   "execution_count": null,
   "metadata": {},
   "outputs": [],
   "source": []
  }
 ],
 "metadata": {
  "kernelspec": {
   "display_name": "Python 3",
   "language": "python",
   "name": "python3"
  },
  "language_info": {
   "codemirror_mode": {
    "name": "ipython",
    "version": 3
   },
   "file_extension": ".py",
   "mimetype": "text/x-python",
   "name": "python",
   "nbconvert_exporter": "python",
   "pygments_lexer": "ipython3",
   "version": "3.9.1"
  }
 },
 "nbformat": 4,
 "nbformat_minor": 4
}